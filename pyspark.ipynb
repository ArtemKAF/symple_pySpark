{
 "cells": [
  {
   "cell_type": "code",
   "execution_count": 47,
   "metadata": {},
   "outputs": [
    {
     "name": "stdout",
     "output_type": "stream",
     "text": [
      "+------------+-------------+\n",
      "|product_name|category_name|\n",
      "+------------+-------------+\n",
      "|   Product A|   Category X|\n",
      "|   Product A|   Category Y|\n",
      "|   Product B|   Category X|\n",
      "|   Product B|   Category Z|\n",
      "|   Product C|   Category Y|\n",
      "|   Product D|   Category X|\n",
      "|   Product E|         NULL|\n",
      "|        NULL|   Category W|\n",
      "|        NULL|   Category U|\n",
      "+------------+-------------+\n",
      "\n"
     ]
    }
   ],
   "source": [
    "from pyspark.sql.session import SparkSession\n",
    "from pyspark.sql.functions import col, when\n",
    "\n",
    "spark = SparkSession.builder.appName(\"ProductCategoryApp\").getOrCreate()\n",
    "\n",
    "products_df = spark.read.csv(\"products.csv\", header=True, inferSchema=True)\n",
    "categories_df = spark.read.csv(\"categories.csv\", header=True, inferSchema=True)\n",
    "product_category_mapping_df = spark.read.csv(\"product_category_mapping.csv\", header=True, inferSchema=True)\n",
    "\n",
    "\n",
    "def get_product_category_info():\n",
    "\n",
    "    product_category_info_df = products_df.join(\n",
    "        product_category_mapping_df, on=\"product_id\", how=\"left\"\n",
    "    ).join(\n",
    "        categories_df, on=\"category_id\", how=\"full\"\n",
    "    ).select(\n",
    "        \"product_name\", \"category_name\"\n",
    "    ).orderBy(when(col(\"product_name\").isNull(), 1).otherwise(0), col(\"product_name\").asc())\n",
    "\n",
    "    return product_category_info_df\n",
    "\n",
    "product_category_info_df = get_product_category_info()\n",
    "\n",
    "product_category_info_df.show()\n",
    "\n",
    "spark.stop()"
   ]
  }
 ],
 "metadata": {
  "kernelspec": {
   "display_name": ".venv",
   "language": "python",
   "name": "python3"
  },
  "language_info": {
   "codemirror_mode": {
    "name": "ipython",
    "version": 3
   },
   "file_extension": ".py",
   "mimetype": "text/x-python",
   "name": "python",
   "nbconvert_exporter": "python",
   "pygments_lexer": "ipython3",
   "version": "3.12.1"
  }
 },
 "nbformat": 4,
 "nbformat_minor": 2
}
